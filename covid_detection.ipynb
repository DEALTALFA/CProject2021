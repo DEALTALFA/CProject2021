{
 "cells": [
  {
   "cell_type": "code",
   "execution_count": 6,
   "id": "14aa91fb",
   "metadata": {},
   "outputs": [],
   "source": [
    "from keras.applications import VGG16\n",
    "import matplotlib.pyplot as plt\n",
    "from keras.preprocessing.image import ImageDataGenerator\n",
    "from sklearn.preprocessing import LabelBinarizer\n",
    "from keras.layers import AveragePooling2D,Dropout,Flatten,Dense,Input\n",
    "from keras.models import Model\n",
    "from keras.optimizers import Adam\n",
    "from keras.utils import to_categorical\n",
    "from sklearn.model_selection import train_test_split"
   ]
  },
  {
   "cell_type": "code",
   "execution_count": 26,
   "id": "a81ed1de",
   "metadata": {},
   "outputs": [],
   "source": [
    "dataset_path=r\"E:\\CProject2021\\Data\""
   ]
  },
  {
   "cell_type": "code",
   "execution_count": 21,
   "id": "56695679",
   "metadata": {},
   "outputs": [],
   "source": [
    "INIT_LR=1e-3\n",
    "epochs=10\n",
    "BS=8"
   ]
  },
  {
   "cell_type": "code",
   "execution_count": 36,
   "id": "2e315a66",
   "metadata": {},
   "outputs": [],
   "source": [
    "args={}\n",
    "args[\"dataset\"]=dataset_path"
   ]
  },
  {
   "cell_type": "code",
   "execution_count": 43,
   "id": "69d7d364",
   "metadata": {},
   "outputs": [
    {
     "data": {
      "text/plain": [
       "{'dataset': 'E:\\\\CProject2021\\\\Data'}"
      ]
     },
     "execution_count": 43,
     "metadata": {},
     "output_type": "execute_result"
    }
   ],
   "source": [
    "args"
   ]
  },
  {
   "cell_type": "code",
   "execution_count": 156,
   "id": "b03c36ed",
   "metadata": {},
   "outputs": [],
   "source": [
    "import cv2\n",
    "import numpy as np\n",
    "import os\n",
    "from imutils import paths\n",
    "\n",
    "iPaths=list(paths.list_images(args[\"dataset\"]))\n",
    "data=[]\n",
    "labels=[]\n",
    "i=1\n",
    "for iPath in iPaths:\n",
    "    label=iPath.split(os.path.sep)\n",
    "    image=cv2.imread(iPath)\n",
    "    image=cv2.cvtColor(image,cv2.COLOR_BGR2RGB)\n",
    "    image=cv2.resize(image,(224,224))\n",
    "    data.append(image)\n",
    "    labels.append(label)\n",
    "data=np.array(data)\n",
    "labels=np.array(labels)"
   ]
  },
  {
   "cell_type": "code",
   "execution_count": 163,
   "id": "d0ba1c04",
   "metadata": {},
   "outputs": [
    {
     "data": {
      "text/plain": [
       "(200, 5)"
      ]
     },
     "execution_count": 163,
     "metadata": {},
     "output_type": "execute_result"
    }
   ],
   "source": []
  },
  {
   "cell_type": "code",
   "execution_count": null,
   "id": "afac25fb",
   "metadata": {},
   "outputs": [],
   "source": []
  }
 ],
 "metadata": {
  "kernelspec": {
   "display_name": "Python 3",
   "language": "python",
   "name": "python3"
  },
  "language_info": {
   "codemirror_mode": {
    "name": "ipython",
    "version": 3
   },
   "file_extension": ".py",
   "mimetype": "text/x-python",
   "name": "python",
   "nbconvert_exporter": "python",
   "pygments_lexer": "ipython3",
   "version": "3.7.10"
  }
 },
 "nbformat": 4,
 "nbformat_minor": 5
}
